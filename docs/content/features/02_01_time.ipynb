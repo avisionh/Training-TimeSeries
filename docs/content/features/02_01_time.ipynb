{
 "cells": [
  {
   "cell_type": "markdown",
   "metadata": {},
   "source": [
    "We will plot interactive visualisations using the `bokeh` library. To get started, we will follow the guidance [here](https://programminghistorian.org/en/lessons/visualizing-with-bokeh)."
   ]
  },
  {
   "cell_type": "code",
   "execution_count": 1,
   "metadata": {},
   "outputs": [],
   "source": [
    "from bokeh.plotting import figure, output_notebook, show\n",
    "from bokeh.palettes import Spectral11"
   ]
  },
  {
   "cell_type": "code",
   "execution_count": 2,
   "metadata": {},
   "outputs": [
    {
     "name": "stdout",
     "output_type": "stream",
     "text": [
      "<class 'pandas.core.frame.DataFrame'>\n",
      "RangeIndex: 2715 entries, 0 to 2714\n",
      "Data columns (total 3 columns):\n",
      " #   Column        Non-Null Count  Dtype         \n",
      "---  ------        --------------  -----         \n",
      " 0   arrival_date  2715 non-null   datetime64[ns]\n",
      " 1   region        2715 non-null   object        \n",
      " 2   total_guests  2715 non-null   float64       \n",
      "dtypes: datetime64[ns](1), float64(1), object(1)\n",
      "memory usage: 63.8+ KB\n"
     ]
    }
   ],
   "source": [
    "# pass in variable from other notebook\n",
    "%store -r data_proportion\n",
    "## un-groupby so we get previous grouped index as columns\n",
    "data_proportion = data_proportion.reset_index()\n",
    "\n",
    "data_proportion.info()"
   ]
  },
  {
   "cell_type": "code",
   "execution_count": 3,
   "metadata": {},
   "outputs": [],
   "source": [
    "# create time-plot\n",
    "\n",
    "## instatiate figure\n",
    "p = figure(x_axis_type = 'datetime', title = \"Time Plot of Proportion of Guests by Region\")\n",
    "p.xaxis.axis_label = \"Date\"\n",
    "p.yaxis.axis_label = \"Proportion of guests\"\n",
    "\n",
    "p.line(x = 'arrival_date', y = 'total_guests', source = data_proportion, \n",
    "       color = 'red', legend_label = 'all')\n",
    "show(p)"
   ]
  },
  {
   "cell_type": "code",
   "execution_count": null,
   "metadata": {},
   "outputs": [],
   "source": []
  }
 ],
 "metadata": {
  "kernelspec": {
   "display_name": "Python 3",
   "language": "python",
   "name": "python3"
  },
  "language_info": {
   "codemirror_mode": {
    "name": "ipython",
    "version": 3
   },
   "file_extension": ".py",
   "mimetype": "text/x-python",
   "name": "python",
   "nbconvert_exporter": "python",
   "pygments_lexer": "ipython3",
   "version": "3.8.1"
  }
 },
 "nbformat": 4,
 "nbformat_minor": 4
}
