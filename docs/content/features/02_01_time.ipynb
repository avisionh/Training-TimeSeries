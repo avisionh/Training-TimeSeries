{
 "cells": [
  {
   "cell_type": "markdown",
   "metadata": {},
   "source": [
    "We will plot interactive visualisations using th e`bokeh` library. To get started, we will follow the guidance [here](https://programminghistorian.org/en/lessons/visualizing-with-bokeh)."
   ]
  },
  {
   "cell_type": "code",
   "execution_count": 4,
   "metadata": {},
   "outputs": [
    {
     "name": "stdout",
     "output_type": "stream",
     "text": [
      "appnope==0.1.0\n",
      "attrs==19.3.0\n",
      "backcall==0.1.0\n",
      "beautifulsoup4==4.8.2\n",
      "bleach==3.1.1\n",
      "bokeh==2.0.0\n",
      "certifi==2019.11.28\n",
      "chardet==3.0.4\n",
      "decorator==4.4.2\n",
      "defusedxml==0.6.0\n",
      "Deprecated==1.2.7\n",
      "entrypoints==0.3\n",
      "html5lib==1.0.1\n",
      "idna==2.9\n",
      "ipykernel==5.1.4\n",
      "ipython==7.13.0\n",
      "ipython-genutils==0.2.0\n",
      "jedi==0.16.0\n",
      "Jinja2==2.11.1\n",
      "jsonschema==3.2.0\n",
      "jupyter-book==0.6.4\n",
      "jupyter-client==6.0.0\n",
      "jupyter-core==4.6.3\n",
      "jupytext==1.4.0\n",
      "kaggle==1.5.6\n",
      "libsass==0.19.4\n",
      "lxml==4.5.0\n",
      "MarkupSafe==1.1.1\n",
      "mistune==0.8.4\n",
      "more-itertools==8.2.0\n",
      "nbconvert==5.6.1\n",
      "nbformat==5.0.4\n",
      "numpy==1.18.2\n",
      "packaging==20.3\n",
      "pandas==1.0.3\n",
      "pandocfilters==1.4.2\n",
      "parso==0.6.2\n",
      "pexpect==4.8.0\n",
      "pickleshare==0.7.5\n",
      "Pillow==7.0.0\n",
      "pluggy==0.13.1\n",
      "prompt-toolkit==3.0.4\n",
      "ptyprocess==0.6.0\n",
      "py==1.8.1\n",
      "PyGithub==1.47\n",
      "Pygments==2.6.1\n",
      "PyJWT==1.7.1\n",
      "pyparsing==2.4.6\n",
      "pyrsistent==0.15.7\n",
      "pytest==5.4.1\n",
      "python-dateutil==2.8.1\n",
      "python-slugify==4.0.0\n",
      "pytz==2019.3\n",
      "PyYAML==5.3\n",
      "pyzmq==19.0.0\n",
      "requests==2.23.0\n",
      "ruamel.yaml==0.16.10\n",
      "ruamel.yaml.clib==0.2.0\n",
      "six==1.14.0\n",
      "soupsieve==2.0\n",
      "testpath==0.4.4\n",
      "text-unidecode==1.3\n",
      "tornado==6.0.4\n",
      "tqdm==4.43.0\n",
      "traitlets==4.3.3\n",
      "typing-extensions==3.7.4.1\n",
      "urllib3==1.24.3\n",
      "wcwidth==0.1.8\n",
      "webencodings==0.5.1\n",
      "wrapt==1.12.1\n"
     ]
    }
   ],
   "source": [
    "!"
   ]
  },
  {
   "cell_type": "code",
   "execution_count": null,
   "metadata": {},
   "outputs": [],
   "source": [
    "\n",
    "# pass in variable from other notebook\n",
    "%store -r data_proportion\n",
    "\n",
    "# create time-plot\n"
   ]
  }
 ],
 "metadata": {
  "kernelspec": {
   "display_name": "Python 3",
   "language": "python",
   "name": "python3"
  },
  "language_info": {
   "codemirror_mode": {
    "name": "ipython",
    "version": 3
   },
   "file_extension": ".py",
   "mimetype": "text/x-python",
   "name": "python",
   "nbconvert_exporter": "python",
   "pygments_lexer": "ipython3",
   "version": "3.8.1"
  }
 },
 "nbformat": 4,
 "nbformat_minor": 4
}
