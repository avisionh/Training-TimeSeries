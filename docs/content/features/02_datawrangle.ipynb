{
 "cells": [
  {
   "cell_type": "markdown",
   "metadata": {},
   "source": []
  },
  {
   "cell_type": "code",
   "execution_count": null,
   "metadata": {},
   "outputs": [],
   "source": [
    "data_lookup = pd.read_csv(filepath_or_buffer = '../../_data/data_lookup.csv')\n",
    "\n",
    "# compute 'number_guests'\n",
    "data_hotel['number_guests'] = data_hotel['adults'] + data_hotel['children'] + data_hotel['babies']\n",
    "# convert month name to month number\n",
    "data_hotel['arrival_date_month'] = pd.to_datetime(data_hotel['arrival_date_month'], format = '%B').dt.month\n",
    "# create date column\n",
    "data_hotel['arrival_date'] = data_hotel['arrival_date_year'].astype(str) + '-' + data_hotel['arrival_date_month'].astype(str) + '-' + data_hotel['arrival_date_day_of_month'].astype(str)\n",
    "data_hotel['arrival_date'] = pd.to_datetime(data_hotel['arrival_date'])\n",
    "# filter out cancelled bookings\n",
    "data_hotel = data_hotel.query('is_canceled == 0')\n",
    "# select only columns necessary\n",
    "data_hotel = data_hotel.loc[:,['hotel', 'arrival_date', \n",
    "                               'number_guests', 'country', 'adr']]\n",
    "\n",
    "data_hotel\n",
    "data_lookup"
   ]
  },
  {
   "cell_type": "code",
   "execution_count": null,
   "metadata": {},
   "outputs": [],
   "source": [
    "# join data to get region\n",
    "data_join = pd.merge(left = data_hotel, right = data_lookup,\n",
    "                    how = 'left', left_on = 'country', right_on = 'alpha-3',\n",
    "                    validate = 'many_to_one')\n",
    "# select only useful columns\n",
    "data_join = data_join.loc[:,['hotel', 'arrival_date', 'number_guests', 'country', 'adr', \n",
    "                             'name', 'region', 'sub-region']]\n",
    "# rename columns\n",
    "data_join = data_join.rename(columns = {'name':'country_name', 'country':'country_code', 'sub-region':'sub_region'})\n",
    "data_join"
   ]
  }
 ],
 "metadata": {
  "kernelspec": {
   "display_name": "Python 3",
   "language": "python",
   "name": "python3"
  },
  "language_info": {
   "codemirror_mode": {
    "name": "ipython",
    "version": 3
   },
   "file_extension": ".py",
   "mimetype": "text/x-python",
   "name": "python",
   "nbconvert_exporter": "python",
   "pygments_lexer": "ipython3",
   "version": "3.8.1"
  }
 },
 "nbformat": 4,
 "nbformat_minor": 4
}
