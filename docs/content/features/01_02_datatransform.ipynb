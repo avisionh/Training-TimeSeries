{
 "cells": [
  {
   "cell_type": "markdown",
   "metadata": {},
   "source": [
    "## Transformation: From $[0,1]$ space to $\\mathbb{R}$ space \n",
    "\n",
    "As we are trying to assess the representativeness of the number of guests before and after the *break-point*, thereby assess whether there is a **structural-change** in our hotel bookings system, we need to model using proportions, `proportion_guests`. This is because we expect the number of guests to change after the potential **structural-change**, but if we can assess whether the proportions are the same or even similar, then we can still make inferences from our data before and after the change. \n",
    "\n",
    "This is because the similar proportions will suggest that whilst the absolute number of guests making hotel bookings have changed, the proportion of people from each group, `region`, are similar, so our data after the *break-point* is still representative of the old data before the *break-point*, and henceforth, any inferences still hold for the same population.\n",
    "\n",
    "You can think of this in the sense that before the *break-point*, we had our target **population** being captured in our data. If the proportions/compositions of people from each `region` are similar after the *break-point*, then we have a **representative sample** of our **target population**.\n",
    "\n",
    "However, we cannot model on proportion/compositional data because compositional data is bounded in the region $[0,1]$. There is a risk here that applying a model to it can give values outside this region, and henceforth be entirely meaningless because you cannot interpret such a value.\n",
    "\n",
    "Instead, we can transform our compositional data by mapping our data into the real number space, $\\mathbb{R}%$. There are three well-characterised isomorphisms that do this:\n",
    "\n",
    "- **Additive logratio (alr)**\n",
    "- **Centre logratio (clr)**\n",
    "- **Isometric logratio (ilr)**\n",
    "\n",
    "*Source: [Wikipedia](https://en.wikipedia.org/wiki/Compositional_data)*\n",
    "\n",
    "Alternatively, we can apply the following by adding a very small value to $0$ values for our proportions. In particular, it is also a common transformation to transform data to be approximately **normally-distributed**. \n",
    "\n",
    "*Source: [Feng et al., \"Log-transformation and its implications for data analysis\"](https://www.ncbi.nlm.nih.gov/pmc/articles/PMC4120293/)*\n",
    "\n",
    "- **Log transform** \n",
    "\n",
    "In all these transformations, it is essential that our data does not contain any zeroes in. Thus we will use a multiplicative replacement strategy to replace zeroes with a small, positive $\\delta$, and do so in a way that ensures the compositions still add up to $1$.\n",
    "\n",
    "*Source: [J.A. Martin Fernandez, \"Dealing with Zeros and Missing Values in Compositional Data Sets Using Nonparametric Imputation\"](https://link.springer.com/article/10.1023/A:1023866030544)*"
   ]
  },
  {
   "cell_type": "code",
   "execution_count": null,
   "metadata": {},
   "outputs": [],
   "source": [
    "import pandas as pd\n",
    "import numpy as np\n",
    "from skbio.stats.composition import multiplicative_replacement\n",
    "from skbio.stats.composition import clr\n",
    "from skbio.stats.composition import ilr\n",
    "\n",
    "# display multiple outputs in same cell\n",
    "from IPython.core.interactiveshell import InteractiveShell\n",
    "InteractiveShell.ast_node_interactivity = \"all\"\n",
    "\n",
    "# put in a python script\n",
    "# create custom additive log-ratio function\n",
    "def func_alr(mat, div, col_names):\n",
    "    \n",
    "    # check to see division can happen /log(0)\n",
    "    \n",
    "    # take vectors from input array `mat`, excluding column index, `div`\n",
    "    numerator = np.delete(arr = mat, obj = div, axis = 1)\n",
    "    # take vector for `div`\n",
    "    denominator = mat[:, div]\n",
    "    \n",
    "    # take logs - should find way to call a package within a function\n",
    "    lnum = np.log(numerator)\n",
    "    lden = np.log(denominator)\n",
    "    \n",
    "    # subtract 'div' vector from every 'column' in matrix, 'mat'\n",
    "    # https://stackoverflow.com/questions/26333005/numpy-subtract-every-row-of-matrix-by-vector\n",
    "    output = (lnum.transpose() - lden).transpose()\n",
    "    \n",
    "    # convert array output to dataframe\n",
    "    output = pd.DataFrame(data = output, columns = col_names)\n",
    "    \n",
    "    return output"
   ]
  },
  {
   "cell_type": "code",
   "execution_count": null,
   "metadata": {},
   "outputs": [],
   "source": [
    "# pass in variable from other notebook\n",
    "%store -r data_join\n",
    "\n",
    "# pivot so can apply trasnformations on\n",
    "data_pivot = data_join.pivot(index = 'arrival_date', columns = 'region', values = 'proportion_guests')\n",
    "\n",
    "# replace NaNs with 0s so can transform\n",
    "data_pivot = data_pivot.loc[:, 'Africa':'Oceania'].fillna(value = 0, axis = 1)\n",
    "\n",
    "## un-groupby so we get previous grouped index as columns\n",
    "data_pivot = data_pivot.reset_index()\n",
    "data_pivot"
   ]
  },
  {
   "cell_type": "code",
   "execution_count": null,
   "metadata": {},
   "outputs": [],
   "source": [
    "x = data_pivot.loc[:, 'Africa':'Oceania']\n",
    "# store column names for later when re-creating dataframe\n",
    "col_names = list(x)\n",
    "x\n",
    "# apply multiplicative replacement strategy to replace 0s\n",
    "x = multiplicative_replacement(x)\n",
    "# note, returns an array\n",
    "x"
   ]
  },
  {
   "cell_type": "code",
   "execution_count": null,
   "metadata": {},
   "outputs": [],
   "source": [
    "# get index of 'Oceania' column\n",
    "index_denominator = col_names.index('Oceania')\n",
    "# remove this index from list of column names\n",
    "col_names.pop(index_denominator)\n",
    "\n",
    "# apply ALR transformation\n",
    "data_alr = func_alr(mat = x, div = index_denominator, col_names = col_names)\n",
    "\n",
    "# add `arrival_date` back in (ASSUMES ROW ORDERING IS PRESERVED)\n",
    "data_alr['arrival_date'] = data_pivot['arrival_date']\n",
    "\n",
    "# unpivot\n",
    "data_alr = data_alr.melt(id_vars = ['arrival_date'], var_name = 'region', value_name = 'alr_guests')\n",
    "\n",
    "data_alr"
   ]
  },
  {
   "cell_type": "code",
   "execution_count": null,
   "metadata": {},
   "outputs": [],
   "source": [
    "# clr\n",
    "data_join['clr_guests'] = clr(mat = x)\n",
    "data_join['ilr_guests'] = ilr(mat = x)"
   ]
  }
 ],
 "metadata": {
  "kernelspec": {
   "display_name": "venv",
   "language": "python",
   "name": "venv"
  },
  "language_info": {
   "codemirror_mode": {
    "name": "ipython",
    "version": 3
   },
   "file_extension": ".py",
   "mimetype": "text/x-python",
   "name": "python",
   "nbconvert_exporter": "python",
   "pygments_lexer": "ipython3",
   "version": "3.7.7"
  }
 },
 "nbformat": 4,
 "nbformat_minor": 4
}
